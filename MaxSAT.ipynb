{
 "cells": [
  {
   "cell_type": "markdown",
   "metadata": {},
   "source": [
    "# MaxSAT\n",
    "MaxSATの2通りの解法について評価する  \n",
    "(1) ランダムに0か1を入れて解く  \n",
    "(2) 線形計画問題に緩和して解きrandomized roundingを行う  "
   ]
  },
  {
   "cell_type": "code",
   "execution_count": 1,
   "metadata": {
    "scrolled": true
   },
   "outputs": [],
   "source": [
    "import numpy as np\n",
    "from pulp import *"
   ]
  },
  {
   "cell_type": "code",
   "execution_count": 2,
   "metadata": {},
   "outputs": [],
   "source": [
    "#論理式の記述を簡単にするための関数\n",
    "#入力xに対してtpが1ならx, 0なら(1-x)を返す\n",
    "def tp(x,tp):\n",
    "    if tp == 1:\n",
    "        return x\n",
    "    if tp == -1:\n",
    "        return 1 - x\n",
    "    #if tp == 0:\n",
    "    #    return 0"
   ]
  },
  {
   "cell_type": "code",
   "execution_count": 3,
   "metadata": {},
   "outputs": [],
   "source": [
    "#randomized rounding\n",
    "#入力xに対して確率xで1を返す\n",
    "def rround(x):\n",
    "    if np.random.rand() < x:\n",
    "        return 1\n",
    "    else:\n",
    "        return 0"
   ]
  },
  {
   "cell_type": "code",
   "execution_count": 4,
   "metadata": {},
   "outputs": [],
   "source": [
    "#論理式を表現する行列を生成する関数\n",
    "#各変数xを真(1)にするか偽(-1)にするかをランダムに生成．\n",
    "#2**k個のクローズ分生成し，重複があれば削除する\n",
    "def make_mat(shape):\n",
    "    A = np.random.choice((1,-1), shape)\n",
    "    A = np.unique(A,axis=0)\n",
    "    return A"
   ]
  },
  {
   "cell_type": "markdown",
   "metadata": {},
   "source": [
    "## MaxSAT1"
   ]
  },
  {
   "cell_type": "code",
   "execution_count": 5,
   "metadata": {},
   "outputs": [],
   "source": [
    "#各変数xを1/2の確率で真にし，代入して真になるクローズの個数を数える\n",
    "def maxsat1(A):\n",
    "    nx = len(A[0]) #変数の数\n",
    "    nz = len(A) #クローズの数\n",
    "    x = np.random.rand(nx) #各変数xを1/2の確率で真にする\n",
    "    x = x > 0.5\n",
    "    #print(x)\n",
    "\n",
    "    # 1か0を設定した変数xを論理式に代入して真になるクローズの個数を数える\n",
    "    real_value = 0\n",
    "    for i in range(nz):\n",
    "        zr = 0.0\n",
    "        for j in range(nx):\n",
    "            if tp(x[j],A[i,j]) == 1: #真になる変数が１つでもあればクローズの値vは真になる\n",
    "                zr = 1.0\n",
    "        real_value += zr\n",
    "    #print('real z value: ', real_value)\n",
    "    \n",
    "    return real_value / nz"
   ]
  },
  {
   "cell_type": "code",
   "execution_count": 12,
   "metadata": {},
   "outputs": [
    {
     "name": "stdout",
     "output_type": "stream",
     "text": [
      "0.9921897640213166\n"
     ]
    }
   ],
   "source": [
    "alpha = 0\n",
    "roop = 10000 #繰り返しの回数\n",
    "k = 7 #変数の数\n",
    "\n",
    "# ランダムに生成した論理式Aに対してMaxSATを繰り返して評価する\n",
    "for i in range(roop):\n",
    "    A = make_mat((2**k,k))\n",
    "    #print('\\n',A)\n",
    "    _alpha = maxsat1(A)\n",
    "    #print(_alpha)\n",
    "    alpha += _alpha\n",
    "print(alpha/roop)"
   ]
  },
  {
   "cell_type": "markdown",
   "metadata": {},
   "source": [
    "## MaxSAT2"
   ]
  },
  {
   "cell_type": "code",
   "execution_count": 64,
   "metadata": {},
   "outputs": [],
   "source": [
    "#線形計画問題に緩和して解いたあとrandomized roundingをする手法\n",
    "#変数xと各クローズを表現する変数zをおき，それぞれ0〜1までを動くとしてzの和を最大化するように最適化する．\n",
    "#その後最適化したxをrandomized roundingで0か1に丸めて，　実際に真になるクローズの数を求める．\n",
    "\n",
    "def maxsat2(A):\n",
    "    nx = len(A[0]) #変数の数\n",
    "    nz = len(A) #クローズの数\n",
    "    x = []\n",
    "    z = []\n",
    "    # pulpを用いて最適化問題を解く\n",
    "    m = LpProblem(sense=LpMaximize)\n",
    "    \n",
    "    # 変数x, z の定義，　扱いやすいように変数のリストを作る\n",
    "    for i in range(nx):\n",
    "        x.append(LpVariable('x{}'.format(i), lowBound=0, upBound=1))\n",
    "    for i in range(nz):\n",
    "        z.append(LpVariable('z{}'.format(i), lowBound=0, upBound=1))\n",
    "\n",
    "    # 目的関数の定義, m = z1 + z2 + ... + zn\n",
    "    m_ob = 0\n",
    "    for i in range(nz):\n",
    "        m_ob += z[i]\n",
    "    m += m_ob\n",
    "    \n",
    "    # 条件式の定義, x1 + x2 + ... xn >= zj のような形\n",
    "    for i in range(nz):\n",
    "        m_c = 0\n",
    "        for j in range(nx):\n",
    "            m_c += tp(x[j],A[i,j])\n",
    "        m += m_c >= z[i]\n",
    "    \n",
    "    # 最適化\n",
    "    m.solve()\n",
    "    \n",
    "    #最適化後の各変数x,zのprint\n",
    "    #for i in range(nx):\n",
    "    #    print('x{}'.format(i), value(x[i]))\n",
    "    #for i in range(nz):\n",
    "    #    print('z{}'.format(i), value(z[i]))\n",
    "        \n",
    "    # 理想的な真のクローズの個数, 最適化された全てのzの和\n",
    "    ideal_value = 0\n",
    "    for i in range(nz):\n",
    "        ideal_value += value(z[i])\n",
    "    #print('ideal z value: ', ideal_value)\n",
    "    \n",
    "    # randomized rounding\n",
    "    _x = []\n",
    "    for i in range(nx):\n",
    "        _x.append(rround(value(x[i])))\n",
    "    #print(_x)\n",
    "    \n",
    "    # 実際の真のクローズの個数，　丸めた変数xを論理式に代入して真になるクローズの個数を数える\n",
    "    real_value = 0\n",
    "    for i in range(nz):\n",
    "        zr = 0.0\n",
    "        for j in range(nx):\n",
    "            if tp(_x[j],A[i,j]) == 1: #真になる変数が１つでもあればクローズの値zrは真になる\n",
    "                zr = 1.0\n",
    "        real_value += zr\n",
    "    #print('real z value: ', real_value)\n",
    "    #print('nz: {}, ideal z value: {}, real z value: {},  '.format(nz, ideal_value, real_value))\n",
    "    \n",
    "    return real_value / ideal_value, real_value / nz"
   ]
  },
  {
   "cell_type": "code",
   "execution_count": 67,
   "metadata": {
    "scrolled": true
   },
   "outputs": [
    {
     "name": "stdout",
     "output_type": "stream",
     "text": [
      "0.9216666666666669\n",
      "0.9216666666666669\n"
     ]
    }
   ],
   "source": [
    "beta = 0\n",
    "gamma = 0\n",
    "roop = 100 #繰り返しの回数\n",
    "k = 2 #変数の数\n",
    "\n",
    "# ランダムに生成した論理式Aに対してMaxSATを繰り返して評価する\n",
    "for i in range(roop):\n",
    "    #if i%100 == 0:\n",
    "    #    print('roop ', i)\n",
    "    A = make_mat((2**k,k))\n",
    "    #print('\\n',A)\n",
    "    _beta, _gamma = maxsat2(A)\n",
    "    #print(_beta)\n",
    "    beta += _beta\n",
    "    gamma += _gamma\n",
    "print(beta/roop)\n",
    "print(gamma/roop)"
   ]
  },
  {
   "cell_type": "markdown",
   "metadata": {},
   "source": [
    "## ある特定の論理式Aに対してMaxSATを行いたい場合"
   ]
  },
  {
   "cell_type": "code",
   "execution_count": 70,
   "metadata": {},
   "outputs": [
    {
     "name": "stdout",
     "output_type": "stream",
     "text": [
      "0.75\n",
      "0.75\n"
     ]
    }
   ],
   "source": [
    "#A = np.array([[1,1]])\n",
    "#A = np.array([[1,-1]])\n",
    "#A = np.array([[-1,1]])\n",
    "#A = np.array([[-1,-1]])\n",
    "#A = np.array([[1,1],[1,-1]])\n",
    "#A = np.array([[1,1],[-1,1]])\n",
    "#A = np.array([[1,1],[-1,-1]])\n",
    "#A = np.array([[1,-1],[-1,1]])\n",
    "#A = np.array([[1,-1],[-1,-1]])\n",
    "#A = np.array([[-1,1],[-1,-1]])\n",
    "#A = np.array([[1,-1],[-1,1],[-1,-1]])\n",
    "#A = np.array([[1,1],[-1,1],[-1,-1]])\n",
    "#A = np.array([[1,1],[1,-1],[-1,-1]])\n",
    "#A = np.array([[1,1],[1,-1],[-1,1]])\n",
    "A = np.array([[1,1],[1,-1],[-1,1],[-1,-1]])\n",
    "roop = 100\n",
    "beta = 0\n",
    "gamma = 0\n",
    "\n",
    "for i in range(roop):\n",
    "    _beta, _gamma = maxsat2(A)\n",
    "    beta += _beta\n",
    "    gamma += _gamma\n",
    "print(beta/roop)\n",
    "print(gamma/roop)"
   ]
  },
  {
   "cell_type": "code",
   "execution_count": null,
   "metadata": {},
   "outputs": [],
   "source": []
  }
 ],
 "metadata": {
  "kernelspec": {
   "display_name": "Python 3",
   "language": "python",
   "name": "python3"
  },
  "language_info": {
   "codemirror_mode": {
    "name": "ipython",
    "version": 3
   },
   "file_extension": ".py",
   "mimetype": "text/x-python",
   "name": "python",
   "nbconvert_exporter": "python",
   "pygments_lexer": "ipython3",
   "version": "3.6.5"
  }
 },
 "nbformat": 4,
 "nbformat_minor": 2
}
